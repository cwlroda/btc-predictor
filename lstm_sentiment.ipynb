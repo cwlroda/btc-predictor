{
  "nbformat": 4,
  "nbformat_minor": 0,
  "metadata": {
    "colab": {
      "name": "lstm_sentiment.ipynb",
      "provenance": [],
      "collapsed_sections": []
    },
    "kernelspec": {
      "name": "python3",
      "display_name": "Python 3"
    },
    "accelerator": "GPU"
  },
  "cells": [
    {
      "cell_type": "code",
      "metadata": {
        "colab": {
          "base_uri": "https://localhost:8080/"
        },
        "id": "h7Ebw5__0DuR",
        "outputId": "708df68d-e91c-4b69-ccb4-6612987cefa4"
      },
      "source": [
        "import math\r\n",
        "import matplotlib.pyplot as plt\r\n",
        "import keras\r\n",
        "import pandas as pd\r\n",
        "import numpy as np\r\n",
        "from keras.models import Sequential\r\n",
        "from keras.layers import Dense\r\n",
        "from keras.layers import LSTM\r\n",
        "from keras.layers import Dropout\r\n",
        "from keras.layers import *\r\n",
        "from sklearn.preprocessing import MinMaxScaler\r\n",
        "from sklearn.metrics import mean_squared_error\r\n",
        "from sklearn.metrics import mean_absolute_error\r\n",
        "from sklearn.model_selection import train_test_split\r\n",
        "from keras.callbacks import EarlyStopping\r\n",
        "\r\n",
        "!pip install yfinance\r\n",
        "import yfinance as yf"
      ],
      "execution_count": 3,
      "outputs": [
        {
          "output_type": "stream",
          "text": [
            "Requirement already satisfied: yfinance in /usr/local/lib/python3.6/dist-packages (0.1.55)\n",
            "Requirement already satisfied: lxml>=4.5.1 in /usr/local/lib/python3.6/dist-packages (from yfinance) (4.6.2)\n",
            "Requirement already satisfied: requests>=2.20 in /usr/local/lib/python3.6/dist-packages (from yfinance) (2.23.0)\n",
            "Requirement already satisfied: pandas>=0.24 in /usr/local/lib/python3.6/dist-packages (from yfinance) (1.1.5)\n",
            "Requirement already satisfied: multitasking>=0.0.7 in /usr/local/lib/python3.6/dist-packages (from yfinance) (0.0.9)\n",
            "Requirement already satisfied: numpy>=1.15 in /usr/local/lib/python3.6/dist-packages (from yfinance) (1.19.5)\n",
            "Requirement already satisfied: certifi>=2017.4.17 in /usr/local/lib/python3.6/dist-packages (from requests>=2.20->yfinance) (2020.12.5)\n",
            "Requirement already satisfied: chardet<4,>=3.0.2 in /usr/local/lib/python3.6/dist-packages (from requests>=2.20->yfinance) (3.0.4)\n",
            "Requirement already satisfied: idna<3,>=2.5 in /usr/local/lib/python3.6/dist-packages (from requests>=2.20->yfinance) (2.10)\n",
            "Requirement already satisfied: urllib3!=1.25.0,!=1.25.1,<1.26,>=1.21.1 in /usr/local/lib/python3.6/dist-packages (from requests>=2.20->yfinance) (1.24.3)\n",
            "Requirement already satisfied: pytz>=2017.2 in /usr/local/lib/python3.6/dist-packages (from pandas>=0.24->yfinance) (2018.9)\n",
            "Requirement already satisfied: python-dateutil>=2.7.3 in /usr/local/lib/python3.6/dist-packages (from pandas>=0.24->yfinance) (2.8.1)\n",
            "Requirement already satisfied: six>=1.5 in /usr/local/lib/python3.6/dist-packages (from python-dateutil>=2.7.3->pandas>=0.24->yfinance) (1.15.0)\n"
          ],
          "name": "stdout"
        }
      ]
    },
    {
      "cell_type": "code",
      "metadata": {
        "colab": {
          "base_uri": "https://localhost:8080/"
        },
        "id": "fKamDthRjB-A",
        "outputId": "53fed851-e863-4658-f017-5fa19326cdfb"
      },
      "source": [
        "sentiment = pd.read_csv('sentiment_hourly.csv')\r\n",
        "sentiment = sentiment.groupby(np.arange(len(sentiment))//24).mean()\r\n",
        "sentiment.head"
      ],
      "execution_count": 4,
      "outputs": [
        {
          "output_type": "execute_result",
          "data": {
            "text/plain": [
              "<bound method NDFrame.head of      Sent_Negatives  Sent_Positives   Overall\n",
              "0         -0.391724        0.443921  0.052197\n",
              "1         -0.296391        0.339874  0.043483\n",
              "2         -0.381668        0.445965  0.064297\n",
              "3         -0.399142        0.450266  0.051124\n",
              "4         -0.398013        0.420093  0.022080\n",
              "..              ...             ...       ...\n",
              "534       -0.411888        0.507678  0.095789\n",
              "535       -0.411246        0.506598  0.095351\n",
              "536       -0.396557        0.507405  0.110848\n",
              "537       -0.427059        0.502655  0.075596\n",
              "538       -0.423759        0.494819  0.071059\n",
              "\n",
              "[539 rows x 3 columns]>"
            ]
          },
          "metadata": {
            "tags": []
          },
          "execution_count": 4
        }
      ]
    },
    {
      "cell_type": "code",
      "metadata": {
        "colab": {
          "base_uri": "https://localhost:8080/"
        },
        "id": "IiQZTcI7506S",
        "outputId": "b060622e-205f-4859-b549-2ff6ce695a11"
      },
      "source": [
        "df = yf.download(tickers=\"BTC-USD\",\r\n",
        "                start=\"2017-08-01\",\r\n",
        "                end=\"2019-01-21\",\r\n",
        "                interval=\"1d\")\r\n",
        "df = df.reset_index()\r\n",
        "sentiment = pd.concat([df[['Open', 'Close', 'Adj Close']], sentiment[['Overall']]], axis=1)\r\n",
        "\r\n",
        "num_features = 4\r\n",
        "num_train = 470\r\n",
        "num_test = 69\r\n",
        "\r\n",
        "training_set = sentiment.iloc[:num_train].values\r\n",
        "test_set = sentiment.iloc[num_train:].values\r\n",
        "\r\n",
        "sentiment.head"
      ],
      "execution_count": 5,
      "outputs": [
        {
          "output_type": "stream",
          "text": [
            "\r[*********************100%***********************]  1 of 1 completed\n"
          ],
          "name": "stdout"
        },
        {
          "output_type": "execute_result",
          "data": {
            "text/plain": [
              "<bound method NDFrame.head of             Open        Close    Adj Close   Overall\n",
              "0    2871.300049  2718.260010  2718.260010  0.052197\n",
              "1    2727.129883  2710.669922  2710.669922  0.043483\n",
              "2    2709.560059  2804.729980  2804.729980  0.064297\n",
              "3    2806.929932  2895.889893  2895.889893  0.051124\n",
              "4    2897.629883  3252.909912  3252.909912  0.022080\n",
              "..           ...          ...          ...       ...\n",
              "534  3651.871094  3678.563965  3678.563965  0.095789\n",
              "535  3677.990479  3657.839355  3657.839355  0.095351\n",
              "536  3652.377930  3728.568359  3728.568359  0.110848\n",
              "537  3725.446045  3601.013672  3601.013672  0.075596\n",
              "538  3600.372803  3576.032471  3576.032471  0.071059\n",
              "\n",
              "[539 rows x 4 columns]>"
            ]
          },
          "metadata": {
            "tags": []
          },
          "execution_count": 5
        }
      ]
    },
    {
      "cell_type": "code",
      "metadata": {
        "id": "79vsVWtF0MTB"
      },
      "source": [
        "# Feature Scaling\r\n",
        "sc = MinMaxScaler(feature_range = (0, 1))\r\n",
        "training_set_scaled = sc.fit_transform(training_set)\r\n",
        "\r\n",
        "# Creating a data structure with 60 time-steps and 1 output\r\n",
        "X_train = []\r\n",
        "y_train = []\r\n",
        "for i in range(60, num_train):\r\n",
        "    X_train.append(training_set_scaled[i-60:i, 0:num_features])\r\n",
        "    y_train.append(training_set_scaled[i, 1])\r\n",
        "X_train, y_train = np.array(X_train), np.array(y_train)\r\n",
        "X_train = np.reshape(X_train, (X_train.shape[0], X_train.shape[1], num_features))"
      ],
      "execution_count": 6,
      "outputs": []
    },
    {
      "cell_type": "code",
      "metadata": {
        "id": "IkqzCMNd0OK4"
      },
      "source": [
        "model = Sequential()\r\n",
        "#Adding the first LSTM layer and some Dropout regularisation\r\n",
        "model.add(Bidirectional(LSTM(units = 50, input_shape = (X_train.shape[1], num_features))))\r\n",
        "model.add(Dropout(0.2))\r\n",
        "# Adding the output layer\r\n",
        "model.add(Dense(units = 1))\r\n",
        "\r\n",
        "# model.summary()"
      ],
      "execution_count": 7,
      "outputs": []
    },
    {
      "cell_type": "code",
      "metadata": {
        "colab": {
          "base_uri": "https://localhost:8080/"
        },
        "id": "uvh5ATL70Oyi",
        "outputId": "2f91837e-3743-47cd-f815-a54ebcb3c71f"
      },
      "source": [
        "# Compiling the RNN\r\n",
        "model.compile(optimizer = 'adam', loss = 'mean_squared_error')\r\n",
        "\r\n",
        "# Fitting the RNN to the Training set\r\n",
        "model.fit(X_train, y_train, epochs = 100, batch_size = 8)"
      ],
      "execution_count": 8,
      "outputs": [
        {
          "output_type": "stream",
          "text": [
            "Epoch 1/100\n",
            "52/52 [==============================] - 9s 7ms/step - loss: 0.0679\n",
            "Epoch 2/100\n",
            "52/52 [==============================] - 0s 6ms/step - loss: 0.0092\n",
            "Epoch 3/100\n",
            "52/52 [==============================] - 0s 6ms/step - loss: 0.0052\n",
            "Epoch 4/100\n",
            "52/52 [==============================] - 0s 6ms/step - loss: 0.0066\n",
            "Epoch 5/100\n",
            "52/52 [==============================] - 0s 6ms/step - loss: 0.0055\n",
            "Epoch 6/100\n",
            "52/52 [==============================] - 0s 6ms/step - loss: 0.0039\n",
            "Epoch 7/100\n",
            "52/52 [==============================] - 0s 6ms/step - loss: 0.0053\n",
            "Epoch 8/100\n",
            "52/52 [==============================] - 0s 7ms/step - loss: 0.0036\n",
            "Epoch 9/100\n",
            "52/52 [==============================] - 0s 7ms/step - loss: 0.0035\n",
            "Epoch 10/100\n",
            "52/52 [==============================] - 0s 7ms/step - loss: 0.0035\n",
            "Epoch 11/100\n",
            "52/52 [==============================] - 0s 8ms/step - loss: 0.0043\n",
            "Epoch 12/100\n",
            "52/52 [==============================] - 0s 8ms/step - loss: 0.0034\n",
            "Epoch 13/100\n",
            "52/52 [==============================] - 0s 7ms/step - loss: 0.0034\n",
            "Epoch 14/100\n",
            "52/52 [==============================] - 0s 6ms/step - loss: 0.0048\n",
            "Epoch 15/100\n",
            "52/52 [==============================] - 0s 6ms/step - loss: 0.0029\n",
            "Epoch 16/100\n",
            "52/52 [==============================] - 0s 6ms/step - loss: 0.0027\n",
            "Epoch 17/100\n",
            "52/52 [==============================] - 0s 6ms/step - loss: 0.0037\n",
            "Epoch 18/100\n",
            "52/52 [==============================] - 0s 6ms/step - loss: 0.0032\n",
            "Epoch 19/100\n",
            "52/52 [==============================] - 0s 6ms/step - loss: 0.0031\n",
            "Epoch 20/100\n",
            "52/52 [==============================] - 0s 6ms/step - loss: 0.0028\n",
            "Epoch 21/100\n",
            "52/52 [==============================] - 0s 6ms/step - loss: 0.0023\n",
            "Epoch 22/100\n",
            "52/52 [==============================] - 0s 8ms/step - loss: 0.0029\n",
            "Epoch 23/100\n",
            "52/52 [==============================] - 0s 8ms/step - loss: 0.0028\n",
            "Epoch 24/100\n",
            "52/52 [==============================] - 0s 8ms/step - loss: 0.0026\n",
            "Epoch 25/100\n",
            "52/52 [==============================] - 0s 8ms/step - loss: 0.0024\n",
            "Epoch 26/100\n",
            "52/52 [==============================] - 0s 8ms/step - loss: 0.0028\n",
            "Epoch 27/100\n",
            "52/52 [==============================] - 0s 8ms/step - loss: 0.0022\n",
            "Epoch 28/100\n",
            "52/52 [==============================] - 0s 8ms/step - loss: 0.0017\n",
            "Epoch 29/100\n",
            "52/52 [==============================] - 0s 8ms/step - loss: 0.0020\n",
            "Epoch 30/100\n",
            "52/52 [==============================] - 0s 6ms/step - loss: 0.0020\n",
            "Epoch 31/100\n",
            "52/52 [==============================] - 0s 6ms/step - loss: 0.0024\n",
            "Epoch 32/100\n",
            "52/52 [==============================] - 0s 6ms/step - loss: 0.0029\n",
            "Epoch 33/100\n",
            "52/52 [==============================] - 0s 6ms/step - loss: 0.0027\n",
            "Epoch 34/100\n",
            "52/52 [==============================] - 0s 6ms/step - loss: 0.0019\n",
            "Epoch 35/100\n",
            "52/52 [==============================] - 0s 7ms/step - loss: 0.0021\n",
            "Epoch 36/100\n",
            "52/52 [==============================] - 0s 6ms/step - loss: 0.0024\n",
            "Epoch 37/100\n",
            "52/52 [==============================] - 0s 6ms/step - loss: 0.0022\n",
            "Epoch 38/100\n",
            "52/52 [==============================] - 0s 7ms/step - loss: 0.0028\n",
            "Epoch 39/100\n",
            "52/52 [==============================] - 0s 7ms/step - loss: 0.0020\n",
            "Epoch 40/100\n",
            "52/52 [==============================] - 0s 6ms/step - loss: 0.0030\n",
            "Epoch 41/100\n",
            "52/52 [==============================] - 0s 7ms/step - loss: 0.0024\n",
            "Epoch 42/100\n",
            "52/52 [==============================] - 0s 6ms/step - loss: 0.0019\n",
            "Epoch 43/100\n",
            "52/52 [==============================] - 0s 7ms/step - loss: 0.0021\n",
            "Epoch 44/100\n",
            "52/52 [==============================] - 0s 8ms/step - loss: 0.0015\n",
            "Epoch 45/100\n",
            "52/52 [==============================] - 0s 7ms/step - loss: 0.0015\n",
            "Epoch 46/100\n",
            "52/52 [==============================] - 0s 6ms/step - loss: 0.0021\n",
            "Epoch 47/100\n",
            "52/52 [==============================] - 0s 6ms/step - loss: 0.0021\n",
            "Epoch 48/100\n",
            "52/52 [==============================] - 0s 6ms/step - loss: 0.0016\n",
            "Epoch 49/100\n",
            "52/52 [==============================] - 0s 7ms/step - loss: 0.0022\n",
            "Epoch 50/100\n",
            "52/52 [==============================] - 0s 6ms/step - loss: 0.0016\n",
            "Epoch 51/100\n",
            "52/52 [==============================] - 0s 6ms/step - loss: 0.0016\n",
            "Epoch 52/100\n",
            "52/52 [==============================] - 0s 6ms/step - loss: 0.0022\n",
            "Epoch 53/100\n",
            "52/52 [==============================] - 0s 6ms/step - loss: 0.0017\n",
            "Epoch 54/100\n",
            "52/52 [==============================] - 0s 7ms/step - loss: 0.0015\n",
            "Epoch 55/100\n",
            "52/52 [==============================] - 0s 7ms/step - loss: 0.0016\n",
            "Epoch 56/100\n",
            "52/52 [==============================] - 0s 7ms/step - loss: 0.0021\n",
            "Epoch 57/100\n",
            "52/52 [==============================] - 0s 7ms/step - loss: 0.0019\n",
            "Epoch 58/100\n",
            "52/52 [==============================] - 0s 7ms/step - loss: 0.0015\n",
            "Epoch 59/100\n",
            "52/52 [==============================] - 0s 7ms/step - loss: 0.0014\n",
            "Epoch 60/100\n",
            "52/52 [==============================] - 0s 6ms/step - loss: 0.0022\n",
            "Epoch 61/100\n",
            "52/52 [==============================] - 0s 6ms/step - loss: 0.0013\n",
            "Epoch 62/100\n",
            "52/52 [==============================] - 0s 8ms/step - loss: 0.0014\n",
            "Epoch 63/100\n",
            "52/52 [==============================] - 0s 8ms/step - loss: 0.0015\n",
            "Epoch 64/100\n",
            "52/52 [==============================] - 0s 8ms/step - loss: 0.0018\n",
            "Epoch 65/100\n",
            "52/52 [==============================] - 0s 8ms/step - loss: 0.0016\n",
            "Epoch 66/100\n",
            "52/52 [==============================] - 0s 8ms/step - loss: 0.0013\n",
            "Epoch 67/100\n",
            "52/52 [==============================] - 0s 8ms/step - loss: 0.0018\n",
            "Epoch 68/100\n",
            "52/52 [==============================] - 0s 7ms/step - loss: 0.0017\n",
            "Epoch 69/100\n",
            "52/52 [==============================] - 0s 6ms/step - loss: 0.0017\n",
            "Epoch 70/100\n",
            "52/52 [==============================] - 0s 6ms/step - loss: 0.0014\n",
            "Epoch 71/100\n",
            "52/52 [==============================] - 0s 7ms/step - loss: 0.0018\n",
            "Epoch 72/100\n",
            "52/52 [==============================] - 0s 7ms/step - loss: 0.0020\n",
            "Epoch 73/100\n",
            "52/52 [==============================] - 0s 6ms/step - loss: 0.0015\n",
            "Epoch 74/100\n",
            "52/52 [==============================] - 0s 6ms/step - loss: 0.0014\n",
            "Epoch 75/100\n",
            "52/52 [==============================] - 0s 8ms/step - loss: 0.0012\n",
            "Epoch 76/100\n",
            "52/52 [==============================] - 0s 6ms/step - loss: 0.0016\n",
            "Epoch 77/100\n",
            "52/52 [==============================] - 0s 7ms/step - loss: 0.0014\n",
            "Epoch 78/100\n",
            "52/52 [==============================] - 0s 7ms/step - loss: 0.0015\n",
            "Epoch 79/100\n",
            "52/52 [==============================] - 0s 6ms/step - loss: 0.0012\n",
            "Epoch 80/100\n",
            "52/52 [==============================] - 0s 7ms/step - loss: 0.0013\n",
            "Epoch 81/100\n",
            "52/52 [==============================] - 0s 8ms/step - loss: 0.0014\n",
            "Epoch 82/100\n",
            "52/52 [==============================] - 0s 8ms/step - loss: 0.0013\n",
            "Epoch 83/100\n",
            "52/52 [==============================] - 0s 8ms/step - loss: 0.0011\n",
            "Epoch 84/100\n",
            "52/52 [==============================] - 0s 8ms/step - loss: 0.0011\n",
            "Epoch 85/100\n",
            "52/52 [==============================] - 0s 7ms/step - loss: 0.0017\n",
            "Epoch 86/100\n",
            "52/52 [==============================] - 0s 6ms/step - loss: 0.0018\n",
            "Epoch 87/100\n",
            "52/52 [==============================] - 0s 6ms/step - loss: 9.9197e-04\n",
            "Epoch 88/100\n",
            "52/52 [==============================] - 0s 7ms/step - loss: 0.0013\n",
            "Epoch 89/100\n",
            "52/52 [==============================] - 0s 7ms/step - loss: 0.0012\n",
            "Epoch 90/100\n",
            "52/52 [==============================] - 0s 6ms/step - loss: 0.0014\n",
            "Epoch 91/100\n",
            "52/52 [==============================] - 0s 7ms/step - loss: 0.0014\n",
            "Epoch 92/100\n",
            "52/52 [==============================] - 0s 6ms/step - loss: 0.0016\n",
            "Epoch 93/100\n",
            "52/52 [==============================] - 0s 7ms/step - loss: 0.0015\n",
            "Epoch 94/100\n",
            "52/52 [==============================] - 0s 8ms/step - loss: 0.0014\n",
            "Epoch 95/100\n",
            "52/52 [==============================] - 0s 8ms/step - loss: 9.4150e-04\n",
            "Epoch 96/100\n",
            "52/52 [==============================] - 0s 7ms/step - loss: 0.0012\n",
            "Epoch 97/100\n",
            "52/52 [==============================] - 0s 6ms/step - loss: 0.0014\n",
            "Epoch 98/100\n",
            "52/52 [==============================] - 0s 6ms/step - loss: 0.0012\n",
            "Epoch 99/100\n",
            "52/52 [==============================] - 0s 6ms/step - loss: 0.0015\n",
            "Epoch 100/100\n",
            "52/52 [==============================] - 0s 6ms/step - loss: 0.0011\n"
          ],
          "name": "stdout"
        },
        {
          "output_type": "execute_result",
          "data": {
            "text/plain": [
              "<tensorflow.python.keras.callbacks.History at 0x7fdc300a6860>"
            ]
          },
          "metadata": {
            "tags": []
          },
          "execution_count": 8
        }
      ]
    },
    {
      "cell_type": "code",
      "metadata": {
        "id": "s8QLD-340PUt"
      },
      "source": [
        "# Getting the predicted stock price\r\n",
        "dataset_train = sentiment.iloc[:num_train]\r\n",
        "dataset_test = sentiment.iloc[num_train:]\r\n",
        "dataset_total = pd.concat((dataset_train, dataset_test), axis = 0)\r\n",
        "inputs = dataset_total[len(dataset_total) - len(dataset_test) - 60:].values\r\n",
        "inputs = inputs.reshape(-1,num_features)\r\n",
        "inputs = sc.transform(inputs)\r\n",
        "\r\n",
        "X_test = []\r\n",
        "for i in range(60, num_test+60):\r\n",
        "    X_test.append(inputs[i-60:i, 0:num_features])\r\n",
        "X_test = np.array(X_test)\r\n",
        "X_test = np.reshape(X_test, (X_test.shape[0], X_test.shape[1], num_features))"
      ],
      "execution_count": 9,
      "outputs": []
    },
    {
      "cell_type": "code",
      "metadata": {
        "id": "7JRL51Uw0RkO"
      },
      "source": [
        "predicted_stock_price = model.predict(X_test)\r\n",
        "predicted_padded = np.zeros(shape=(len(predicted_stock_price), num_features))\r\n",
        "predicted_padded[:,1] = predicted_stock_price[:,0]\r\n",
        "predicted_padded = sc.inverse_transform(predicted_padded)"
      ],
      "execution_count": 10,
      "outputs": []
    },
    {
      "cell_type": "code",
      "metadata": {
        "colab": {
          "base_uri": "https://localhost:8080/",
          "height": 589
        },
        "id": "67PijQZu0TZB",
        "outputId": "02496e51-edd0-49e7-9618-c5c7a1f2cf2f"
      },
      "source": [
        "# Visualising the results\r\n",
        "fig, ax1 = plt.subplots()\r\n",
        "fig.set_figwidth(20)\r\n",
        "fig.set_figheight(10)\r\n",
        "\r\n",
        "ax1.plot(df.loc[num_train:, 'Date'].apply(lambda x: x.strftime('%Y-%m-%d')), df.iloc[num_train:, 1:2], color='red', label = 'Real Bitcoin Price (Daily Close)')\r\n",
        "ax1.plot(df.loc[num_train:, 'Date'].apply(lambda x: x.strftime('%Y-%m-%d')), predicted_padded[:,1], color = 'blue', label = 'Predicted Bitcoin Price (Daily Close)')\r\n",
        "\r\n",
        "ax1.set_xlabel('Time')\r\n",
        "ax1.tick_params(\r\n",
        "    axis='x',          # changes apply to the x-axis\r\n",
        "    which='both',      # both major and minor ticks are affected\r\n",
        "    bottom=False,      # ticks along the bottom edge are off\r\n",
        "    top=False,         # ticks along the top edge are off\r\n",
        "    labelbottom=False)\r\n",
        "ax1.set_ylabel('Bitcoin Stock Price')\r\n",
        "ax1.legend()\r\n",
        "\r\n",
        "plt.show()"
      ],
      "execution_count": 11,
      "outputs": [
        {
          "output_type": "display_data",
          "data": {
            "image/png": "[encoded data removed]",
            "text/plain": [
              "<Figure size 1440x720 with 1 Axes>"
            ]
          },
          "metadata": {
            "tags": [],
            "needs_background": "light"
          }
        }
      ]
    },
    {
      "cell_type": "code",
      "metadata": {
        "colab": {
          "base_uri": "https://localhost:8080/"
        },
        "id": "P6abG8anxzm8",
        "outputId": "cd54df4a-077e-4722-eb1c-0d35ec9f6b6d"
      },
      "source": [
        "error_sum = 0\r\n",
        "\r\n",
        "for i in range(len(predicted_padded)):\r\n",
        "    diff = abs(predicted_padded[i,1] - df.loc[num_train+i, 'Close']) / df.loc[num_train+i, 'Close']\r\n",
        "    error_sum += diff\r\n",
        "\r\n",
        "error_avg = error_sum / len(predicted_padded)\r\n",
        "acc = 1 - error_avg\r\n",
        "print(acc)"
      ],
      "execution_count": 19,
      "outputs": [
        {
          "output_type": "stream",
          "text": [
            "0.9367660414579372\n"
          ],
          "name": "stdout"
        }
      ]
    },
    {
      "cell_type": "code",
      "metadata": {
        "id": "T8qqVNMTgj7N"
      },
      "source": [
        "# Sentiment plot\r\n",
        "fig, ax1 = plt.subplots()\r\n",
        "fig.set_figwidth(20)\r\n",
        "fig.set_figheight(10)\r\n",
        "\r\n",
        "ax1.plot(df.loc[num_train:, 'Date'].apply(lambda x: x.strftime('%Y-%m-%d')), sentiment.iloc[num_train:, 3:4], color='green', label = 'Daily Average Sentiment')\r\n",
        "\r\n",
        "ax1.set_xlabel('Time')\r\n",
        "ax1.tick_params(\r\n",
        "    axis='x',          # changes apply to the x-axis\r\n",
        "    which='both',      # both major and minor ticks are affected\r\n",
        "    bottom=False,      # ticks along the bottom edge are off\r\n",
        "    top=False,         # ticks along the top edge are off\r\n",
        "    labelbottom=False)\r\n",
        "ax1.set_ylabel('Sentiment Value')\r\n",
        "ax1.legend()\r\n",
        "\r\n",
        "plt.show()"
      ],
      "execution_count": null,
      "outputs": []
    }
  ]
}